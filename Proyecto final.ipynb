{
 "cells": [
  {
   "cell_type": "code",
   "execution_count": null,
   "metadata": {},
   "outputs": [
    {
     "name": "stdout",
     "output_type": "stream",
     "text": [
      "   SalePrice  OverallQual  1stFlrSF  TotRmsAbvGrd  YearBuilt  LotFrontage\n",
      "0   208500.0          7.0     856.0           8.0     2003.0         65.0\n",
      "1   181500.0          6.0    1262.0           6.0     1976.0         80.0\n",
      "2   223500.0          7.0     920.0           6.0     2001.0         68.0\n",
      "3   140000.0          7.0     961.0           7.0     1915.0         60.0\n",
      "4   250000.0          8.0    1145.0           9.0     2000.0         84.0\n"
     ]
    }
   ],
   "source": [
    "import numpy as np\n",
    "import pandas as pd\n",
    "\n",
    "# Cargar los datos\n",
    "file_path = r\"C:\\PythonWs\\Proyecto\\proyecto_training_data.npy\"\n",
    "data = np.load(file_path, allow_pickle=True)\n"
   ]
  },
  {
   "cell_type": "code",
   "execution_count": 22,
   "metadata": {},
   "outputs": [],
   "source": [
    "# Configurar NumPy para deshabilitar la notación científica\n",
    "np.set_printoptions(suppress=True, precision=4)"
   ]
  },
  {
   "cell_type": "code",
   "execution_count": 23,
   "metadata": {},
   "outputs": [
    {
     "name": "stdout",
     "output_type": "stream",
     "text": [
      "   SalePrice  OverallQual  1stFlrSF  TotRmsAbvGrd  YearBuilt  LotFrontage\n",
      "0   208500.0          7.0     856.0           8.0     2003.0         65.0\n",
      "1   181500.0          6.0    1262.0           6.0     1976.0         80.0\n",
      "2   223500.0          7.0     920.0           6.0     2001.0         68.0\n",
      "3   140000.0          7.0     961.0           7.0     1915.0         60.0\n",
      "4   250000.0          8.0    1145.0           9.0     2000.0         84.0\n"
     ]
    }
   ],
   "source": [
    "\n",
    "# Nombres de columnas según la descripción del dataset\n",
    "column_names = [\"SalePrice\", \"OverallQual\", \"1stFlrSF\", \"TotRmsAbvGrd\", \"YearBuilt\", \"LotFrontage\"]\n",
    "\n",
    "# Convertir a DataFrame de Pandas\n",
    "df = pd.DataFrame(data, columns=column_names)\n",
    "\n",
    "# Mostrar primeras filas\n",
    "print(df.head())\n"
   ]
  },
  {
   "cell_type": "code",
   "execution_count": 28,
   "metadata": {},
   "outputs": [
    {
     "name": "stdout",
     "output_type": "stream",
     "text": [
      "1445\n"
     ]
    }
   ],
   "source": [
    "# Definir tamaño del conjunto de entrenamiento\n",
    "train_size = int(len(df) * 0.99)\n",
    "\n",
    "print (train_size)\n"
   ]
  },
  {
   "cell_type": "code",
   "execution_count": 29,
   "metadata": {},
   "outputs": [
    {
     "name": "stdout",
     "output_type": "stream",
     "text": [
      "Entrenamiento: (1445, 6), Validación: (15, 6)\n"
     ]
    }
   ],
   "source": [
    "\n",
    "# División de datos con slicing de NumPy\n",
    "train_data = df.iloc[:train_size, :].copy()\n",
    "val_data = df.iloc[train_size:, :].copy()\n",
    "\n",
    "# Verificar tamaños\n",
    "print(f\"Entrenamiento: {train_data.shape}, Validación: {val_data.shape}\")\n"
   ]
  },
  {
   "cell_type": "code",
   "execution_count": 30,
   "metadata": {},
   "outputs": [
    {
     "name": "stdout",
     "output_type": "stream",
     "text": [
      "                      Media    Máximo   Mínimo     Rango  Desviación Estándar\n",
      "SalePrice     167307.666667  287090.0  84500.0  202590.0         58488.468290\n",
      "OverallQual        5.800000       8.0      4.0       4.0             1.166190\n",
      "1stFlrSF        1146.800000    2073.0    630.0    1443.0           329.201296\n",
      "TotRmsAbvGrd       6.333333       9.0      3.0       6.0             1.398412\n",
      "YearBuilt       1975.533333    2008.0   1910.0      98.0            27.268704\n",
      "LotFrontage       65.857143      90.0     21.0       NaN            17.823969\n"
     ]
    }
   ],
   "source": [
    "# Cálculo de estadísticas usando NumPy\n",
    "stats = {\n",
    "    \"Media\": np.mean(val_data, axis=0),\n",
    "    \"Máximo\": np.max(val_data, axis=0),\n",
    "    \"Mínimo\": np.min(val_data, axis=0),\n",
    "    \"Rango\": np.ptp(val_data, axis=0),  # Peak-to-peak (max - min)\n",
    "    \"Desviación Estándar\": np.std(val_data, axis=0)\n",
    "}\n",
    "\n",
    "# Convertir a DataFrame para mostrar organizado\n",
    "df_stats = pd.DataFrame(stats, index=column_names)\n",
    "\n",
    "# Mostrar análisis exploratorio\n",
    "print(df_stats)\n"
   ]
  }
 ],
 "metadata": {
  "kernelspec": {
   "display_name": "Python 3",
   "language": "python",
   "name": "python3"
  },
  "language_info": {
   "codemirror_mode": {
    "name": "ipython",
    "version": 3
   },
   "file_extension": ".py",
   "mimetype": "text/x-python",
   "name": "python",
   "nbconvert_exporter": "python",
   "pygments_lexer": "ipython3",
   "version": "3.12.9"
  }
 },
 "nbformat": 4,
 "nbformat_minor": 2
}
