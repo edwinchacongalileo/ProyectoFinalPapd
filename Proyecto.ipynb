{
 "cells": [
  {
   "cell_type": "markdown",
   "metadata": {},
   "source": [
    "# Proyecto final"
   ]
  },
  {
   "cell_type": "code",
   "execution_count": null,
   "metadata": {},
   "outputs": [],
   "source": [
    "import numpy as np\n",
    "\n",
    "# Cargar los datos desde un archivo .npy\n",
    "\n",
    "datos = np.load(\"proyecto_training_data.npy\")\n",
    "#removes valores NAN a \n",
    "np.nan_to_num(datos, copy=False)\n",
    "\n",
    "# separación del  80% para pruebas\n",
    "split_80 = int(len(datos) * 0.99)\n",
    "data_80 = datos[:split_80]\n",
    "data_20 = datos[split_80:]\n",
    "split_20 = int(len(data_20))\n",
    "\n",
    "data = data_20 *10000000000000\n",
    "\n",
    "\n",
    "print(data)\n",
    "\n",
    "promedio= {np.average(data_20, axis = 0)}\n",
    "varianza={np.var(data_20, axis = 0)}\n",
    "desviacion={np.std(data_20, axis = 0)}\n",
    "sumatoria={np.sum(data_20, axis = 0)}\n",
    "minimo={np.min(data_20, axis = 0)}\n",
    "maximo={np.max(data_20, axis = 0)}\n",
    "rango={np.ptp(data_20)}\n",
    "\n",
    "print(f\"Promedio: \", promedio)\n",
    "print(f\"Varianza: \"v)\n",
    "print(f\"Desviacion:{np.std(data_20, axis = 0)}\")\n",
    "print(f\"Sumatoria:{np.sum(data_20, axis = 0)}\")\n",
    "print(f\"Minimo:{np.min(data_20, axis = 0)}\")\n",
    "print(f\"Maximo:{np.max(data_20, axis = 0)}\")\n",
    "print(f\"Rango:{np.ptp(data_20)}\")"
   ]
  },
  {
   "cell_type": "code",
   "execution_count": 81,
   "metadata": {},
   "outputs": [],
   "source": [
    "import seaborn as sbn"
   ]
  },
  {
   "cell_type": "code",
   "execution_count": 82,
   "metadata": {},
   "outputs": [
    {
     "name": "stdout",
     "output_type": "stream",
     "text": [
      "Collecting package metadata (current_repodata.json): ...working... done\n",
      "Solving environment: ...working... unsuccessful initial attempt using frozen solve. Retrying with flexible solve.\n",
      "Collecting package metadata (repodata.json): ...working... done\n",
      "Solving environment: ...working... unsuccessful initial attempt using frozen solve. Retrying with flexible solve.\n"
     ]
    },
    {
     "name": "stderr",
     "output_type": "stream",
     "text": [
      "\n",
      "PackagesNotFoundError: The following packages are not available from current channels:\n",
      "\n",
      "  - mathplotlib\n",
      "\n",
      "Current channels:\n",
      "\n",
      "  - https://repo.anaconda.com/pkgs/main/win-64\n",
      "  - https://repo.anaconda.com/pkgs/main/noarch\n",
      "  - https://repo.anaconda.com/pkgs/r/win-64\n",
      "  - https://repo.anaconda.com/pkgs/r/noarch\n",
      "  - https://repo.anaconda.com/pkgs/msys2/win-64\n",
      "  - https://repo.anaconda.com/pkgs/msys2/noarch\n",
      "\n",
      "To search for alternate channels that may provide the conda package you're\n",
      "looking for, navigate to\n",
      "\n",
      "    https://anaconda.org\n",
      "\n",
      "and use the search bar at the top of the page.\n",
      "\n",
      "\n"
     ]
    }
   ],
   "source": [
    "!conda install mathplotlib --yes"
   ]
  }
 ],
 "metadata": {
  "kernelspec": {
   "display_name": "venv_ugal_proyectofinal",
   "language": "python",
   "name": "python3"
  },
  "language_info": {
   "codemirror_mode": {
    "name": "ipython",
    "version": 3
   },
   "file_extension": ".py",
   "mimetype": "text/x-python",
   "name": "python",
   "nbconvert_exporter": "python",
   "pygments_lexer": "ipython3",
   "version": "3.13.2"
  }
 },
 "nbformat": 4,
 "nbformat_minor": 2
}
